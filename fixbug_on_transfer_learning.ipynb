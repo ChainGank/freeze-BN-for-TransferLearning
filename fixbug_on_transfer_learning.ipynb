{
 "cells": [
  {
   "cell_type": "code",
   "execution_count": 1,
   "metadata": {},
   "outputs": [
    {
     "name": "stderr",
     "output_type": "stream",
     "text": [
      "/root/anaconda3/lib/python3.7/site-packages/ipykernel_launcher.py:24: DeprecationWarning: `imresize` is deprecated!\n",
      "`imresize` is deprecated in SciPy 1.0.0, and will be removed in 1.3.0.\n",
      "Use Pillow instead: ``numpy.array(Image.fromarray(arr).resize())``.\n"
     ]
    }
   ],
   "source": [
    "import numpy as np\n",
    "import tensorflow as tf\n",
    "import tensorflow.keras as keras\n",
    "from tensorflow.keras.datasets import cifar10\n",
    "from scipy.misc import imresize\n",
    "\n",
    "from tensorflow.keras.preprocessing.image import ImageDataGenerator\n",
    "from tensorflow.keras.applications.resnet50 import ResNet50, preprocess_input\n",
    "from tensorflow.keras.models import Model, load_model\n",
    "from tensorflow.keras.layers import Dense, Flatten\n",
    "from tensorflow.keras import backend as K\n",
    " \n",
    " \n",
    "seed = 42\n",
    "epochs = 10\n",
    "records_per_class = 100\n",
    " \n",
    "# We take only 2 classes from CIFAR10 and a very small sample to intentionally overfit the model.\n",
    "# We will also use the same data for train/test and expect that Keras will give the same accuracy.\n",
    "(x, y), _ = cifar10.load_data()\n",
    " \n",
    "def filter_resize(category):\n",
    "   # We do the preprocessing here instead in the Generator to get around a bug on Keras 2.1.5.\n",
    "   return [preprocess_input(imresize(img, (224,224)).astype('float')) for img in x[y.flatten()==category][:records_per_class]]\n",
    " \n",
    "x = np.stack(filter_resize(3)+filter_resize(5))\n",
    "records_per_class = x.shape[0] // 2\n",
    "y = np.array([[1,0]]*records_per_class + [[0,1]]*records_per_class)\n",
    " \n",
    " "
   ]
  },
  {
   "cell_type": "code",
   "execution_count": 2,
   "metadata": {},
   "outputs": [
    {
     "name": "stderr",
     "output_type": "stream",
     "text": [
      "/root/anaconda3/lib/python3.7/site-packages/keras_applications/resnet50.py:265: UserWarning: The output shape of `ResNet50(include_top=False)` has been changed since Keras 2.2.0.\n",
      "  warnings.warn('The output shape of `ResNet50(include_top=False)` '\n"
     ]
    },
    {
     "name": "stdout",
     "output_type": "stream",
     "text": [
      "Epoch 1/10\n",
      "7/7 [==============================] - 5s 709ms/step - loss: 5.8444 - accuracy: 0.5600 - val_loss: 0.1807 - val_accuracy: 0.9050\n",
      "Epoch 2/10\n",
      "7/7 [==============================] - 1s 155ms/step - loss: 0.1672 - accuracy: 0.9150 - val_loss: 0.0233 - val_accuracy: 1.0000\n",
      "Epoch 3/10\n",
      "7/7 [==============================] - 1s 156ms/step - loss: 0.0233 - accuracy: 1.0000 - val_loss: 0.0060 - val_accuracy: 1.0000\n",
      "Epoch 4/10\n",
      "7/7 [==============================] - 1s 154ms/step - loss: 0.0061 - accuracy: 1.0000 - val_loss: 0.0046 - val_accuracy: 1.0000\n",
      "Epoch 5/10\n",
      "7/7 [==============================] - 1s 156ms/step - loss: 0.0052 - accuracy: 1.0000 - val_loss: 0.0039 - val_accuracy: 1.0000\n",
      "Epoch 6/10\n",
      "7/7 [==============================] - 1s 154ms/step - loss: 0.0043 - accuracy: 1.0000 - val_loss: 0.0034 - val_accuracy: 1.0000\n",
      "Epoch 7/10\n",
      "7/7 [==============================] - 1s 156ms/step - loss: 0.0037 - accuracy: 1.0000 - val_loss: 0.0035 - val_accuracy: 1.0000\n",
      "Epoch 8/10\n",
      "7/7 [==============================] - 1s 154ms/step - loss: 0.0035 - accuracy: 1.0000 - val_loss: 0.0030 - val_accuracy: 1.0000\n",
      "Epoch 9/10\n",
      "7/7 [==============================] - 1s 157ms/step - loss: 0.0028 - accuracy: 1.0000 - val_loss: 0.0028 - val_accuracy: 1.0000\n",
      "Epoch 10/10\n",
      "7/7 [==============================] - 1s 158ms/step - loss: 0.0026 - accuracy: 1.0000 - val_loss: 0.0026 - val_accuracy: 1.0000\n"
     ]
    }
   ],
   "source": [
    "# We will use a pre-trained model and finetune the top layers.\n",
    "np.random.seed(seed)\n",
    "with K.learning_phase_scope(0):\n",
    "    base_model = ResNet50(weights='imagenet', include_top=False, input_shape=(224, 224, 3))\n",
    "# base_model = ResNet50(weights='imagenet', include_top=False, input_shape=(224, 224, 3))\n",
    "l = Flatten()(base_model.output)\n",
    "predictions = Dense(2, activation='softmax')(l)\n",
    "model = Model(inputs=base_model.input, outputs=predictions)\n",
    " \n",
    "for layer in model.layers[:140]:\n",
    "   layer.trainable = False\n",
    " \n",
    "for layer in model.layers[140:]:\n",
    "   layer.trainable = True\n",
    " \n",
    "model.compile(optimizer='sgd', loss='categorical_crossentropy', metrics=['accuracy'])\n",
    "model.fit_generator(ImageDataGenerator().flow(x, y, seed=42), epochs=epochs, validation_data=ImageDataGenerator().flow(x, y, seed=42))\n",
    " \n",
    "# Store the model on disk\n",
    "model.save('tmp.h5')\n",
    " \n",
    " "
   ]
  },
  {
   "cell_type": "code",
   "execution_count": 3,
   "metadata": {},
   "outputs": [
    {
     "name": "stdout",
     "output_type": "stream",
     "text": [
      "DYNAMIC LEARNING_PHASE\n",
      "[0.0023754646946534713, 1.0]\n",
      "STATIC LEARNING_PHASE = 0\n",
      "[0.0023754646946534713, 1.0]\n",
      "STATIC LEARNING_PHASE = 1\n",
      "[0.23021982716662542, 0.905]\n"
     ]
    }
   ],
   "source": [
    "# In every test we will clear the session and reload the model to force Learning_Phase values to change.\n",
    "print('DYNAMIC LEARNING_PHASE')\n",
    "K.clear_session()\n",
    "model = load_model('tmp.h5')\n",
    "# This accuracy should match exactly the one of the validation set on the last iteration.\n",
    "print(model.evaluate_generator(ImageDataGenerator().flow(x, y, seed=42)))\n",
    " \n",
    " \n",
    "print('STATIC LEARNING_PHASE = 0')\n",
    "K.clear_session()\n",
    "K.set_learning_phase(0)\n",
    "model = load_model('tmp.h5')\n",
    "# Again the accuracy should match the above.\n",
    "print(model.evaluate_generator(ImageDataGenerator().flow(x, y, seed=42)))\n",
    " \n",
    " \n",
    "print('STATIC LEARNING_PHASE = 1')\n",
    "K.clear_session()\n",
    "K.set_learning_phase(1)\n",
    "model = load_model('tmp.h5')\n",
    "# The accuracy will be close to the one of the training set on the last iteration.\n",
    "print(model.evaluate_generator(ImageDataGenerator().flow(x, y, seed=42)))"
   ]
  },
  {
   "cell_type": "code",
   "execution_count": null,
   "metadata": {},
   "outputs": [],
   "source": []
  }
 ],
 "metadata": {
  "kernelspec": {
   "display_name": "Python 3",
   "language": "python",
   "name": "python3"
  },
  "language_info": {
   "codemirror_mode": {
    "name": "ipython",
    "version": 3
   },
   "file_extension": ".py",
   "mimetype": "text/x-python",
   "name": "python",
   "nbconvert_exporter": "python",
   "pygments_lexer": "ipython3",
   "version": "3.7.3"
  }
 },
 "nbformat": 4,
 "nbformat_minor": 2
}
